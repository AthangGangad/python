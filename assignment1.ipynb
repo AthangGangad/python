{
 "cells": [
  {
   "cell_type": "code",
   "execution_count": 16,
   "metadata": {},
   "outputs": [
    {
     "name": "stdout",
     "output_type": "stream",
     "text": [
      "area of triangle : 14.696938456699069\n"
     ]
    }
   ],
   "source": [
    "#area of triangle\n",
    "a=5\n",
    "b=6\n",
    "c=7\n",
    "s=(a+b+c)/2\n",
    "area=(s*(s-a)*(s-b)*(s-c))**0.5\n",
    "print(\"area of triangle :\",area)"
   ]
  },
  {
   "cell_type": "code",
   "execution_count": 17,
   "metadata": {},
   "outputs": [
    {
     "name": "stdout",
     "output_type": "stream",
     "text": [
      "20 10\n"
     ]
    }
   ],
   "source": [
    "#swap variable\n",
    "a=10\n",
    "b=20\n",
    "t=a\n",
    "a=b\n",
    "b=t\n",
    "print(a,b)"
   ]
  },
  {
   "cell_type": "code",
   "execution_count": 18,
   "metadata": {},
   "outputs": [],
   "source": [
    "#check no is positive or negative\n",
    "n=int(input(\"enter the number:\"))\n",
    "if(n>0):\n",
    "    print(\"no is positive\")\n",
    "else:\n",
    "    print(\"no is negative\")"
   ]
  },
  {
   "cell_type": "code",
   "execution_count": null,
   "metadata": {},
   "outputs": [
    {
     "name": "stdout",
     "output_type": "stream",
     "text": [
      "no is even\n"
     ]
    }
   ],
   "source": [
    "#che4ck no is od or even\n",
    "a=int(input(\"enter the number\"))\n",
    "if(n%2==0):\n",
    "    print(\"no is even\")\n",
    "else:\n",
    "    print(\"no is odd\")\n",
    "    "
   ]
  },
  {
   "cell_type": "code",
   "execution_count": null,
   "metadata": {},
   "outputs": [
    {
     "name": "stdout",
     "output_type": "stream",
     "text": [
      "the given no is prime 7\n"
     ]
    }
   ],
   "source": [
    "num=7\n",
    "s=0\n",
    "if num>1:\n",
    "    for i in range(2,num):\n",
    "        if(num%i==0):\n",
    "            s=1\n",
    "            break\n",
    "if s:\n",
    "    print(\"the given no is not a prime number\",num)\n",
    "else:\n",
    "    print(\"the given no is prime\",num)"
   ]
  },
  {
   "cell_type": "code",
   "execution_count": 15,
   "metadata": {},
   "outputs": [
    {
     "ename": "KeyboardInterrupt",
     "evalue": "",
     "output_type": "error",
     "traceback": [
      "\u001b[1;31m---------------------------------------------------------------------------\u001b[0m",
      "\u001b[1;31mKeyboardInterrupt\u001b[0m                         Traceback (most recent call last)",
      "Cell \u001b[1;32mIn [15], line 5\u001b[0m\n\u001b[0;32m      3\u001b[0m s\u001b[38;5;241m=\u001b[39m\u001b[38;5;241m0\u001b[39m\n\u001b[0;32m      4\u001b[0m n1\u001b[38;5;241m=\u001b[39mn\n\u001b[1;32m----> 5\u001b[0m \u001b[38;5;28;01mwhile\u001b[39;00m \u001b[43mn\u001b[49m\u001b[38;5;241;43m>\u001b[39;49m\u001b[38;5;241;43m0\u001b[39;49m:\n\u001b[0;32m      6\u001b[0m     d\u001b[38;5;241m=\u001b[39mn\u001b[38;5;241m%\u001b[39m\u001b[38;5;241m10\u001b[39m\n\u001b[0;32m      7\u001b[0m     s\u001b[38;5;241m=\u001b[39ms\u001b[38;5;241m+\u001b[39md\u001b[38;5;241m*\u001b[39m\u001b[38;5;241m*\u001b[39m\u001b[38;5;241m3\u001b[39m\n",
      "\u001b[1;31mKeyboardInterrupt\u001b[0m: "
     ]
    }
   ],
   "source": [
    "#check for armstrong or not\n",
    "n=int(input(\"enter the no\"))\n",
    "s=0\n",
    "n1=n\n",
    "while n>0:\n",
    "    d=n%10\n",
    "    s=s+d**3\n",
    "    n=n1/10\n",
    "if s==n1:\n",
    "    print(\"no is armstrong\")\n",
    "else:\n",
    "s    print(\"no is not armstrong\")"
   ]
  },
  {
   "cell_type": "code",
   "execution_count": null,
   "metadata": {},
   "outputs": [],
   "source": [
    "#find the factorial of the number\n",
    "n=int(input(\"enter the number\"))\n",
    "fac=1\n",
    "for i in range(n,n+1)\n",
    "fac=fac*i\n",
    "print(\"fctorial=\",s)"
   ]
  }
 ],
 "metadata": {
  "interpreter": {
   "hash": "1804217a9e3f405f6b513f0cbd46e14aaee02e36ae3f45704d855b5ebf500c25"
  },
  "kernelspec": {
   "display_name": "Python 3.10.7 64-bit",
   "language": "python",
   "name": "python3"
  },
  "language_info": {
   "codemirror_mode": {
    "name": "ipython",
    "version": 3
   },
   "file_extension": ".py",
   "mimetype": "text/x-python",
   "name": "python",
   "nbconvert_exporter": "python",
   "pygments_lexer": "ipython3",
   "version": "3.10.7"
  },
  "orig_nbformat": 4
 },
 "nbformat": 4,
 "nbformat_minor": 2
}
